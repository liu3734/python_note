{
 "cells": [
  {
   "cell_type": "code",
   "execution_count": 1,
   "metadata": {
    "scrolled": true
   },
   "outputs": [
    {
     "name": "stdout",
     "output_type": "stream",
     "text": [
      "[3, 4, 5, 6, 7, 9, 11, 13, 15, 17]\n",
      "[17, 15, 13, 11, 9, 7, 6, 5, 4, 3]\n",
      "[3, 5, 7, 11, 15]\n",
      "[4, 6, 9, 13, 17]\n",
      "[6, 7, 9]\n",
      "[0, 2, 0, 4, 0, 6]\n"
     ]
    },
    {
     "ename": "ValueError",
     "evalue": "attempt to assign sequence of size 2 to extended slice of size 3",
     "output_type": "error",
     "traceback": [
      "\u001b[1;31m---------------------------------------------------------------------------\u001b[0m",
      "\u001b[1;31mValueError\u001b[0m                                Traceback (most recent call last)",
      "\u001b[1;32m<ipython-input-1-16bb4373ccb8>\u001b[0m in \u001b[0;36m<module>\u001b[1;34m\u001b[0m\n\u001b[0;32m     25\u001b[0m \u001b[0mprint\u001b[0m \u001b[1;33m(\u001b[0m\u001b[0maList\u001b[0m\u001b[1;33m)\u001b[0m\u001b[1;33m\u001b[0m\u001b[0m\n\u001b[0;32m     26\u001b[0m \u001b[0maList\u001b[0m\u001b[1;33m[\u001b[0m\u001b[1;33m:\u001b[0m\u001b[1;33m:\u001b[0m\u001b[1;36m2\u001b[0m\u001b[1;33m]\u001b[0m \u001b[1;33m=\u001b[0m \u001b[1;33m[\u001b[0m\u001b[1;34m'a'\u001b[0m\u001b[1;33m,\u001b[0m \u001b[1;34m'b'\u001b[0m\u001b[1;33m,\u001b[0m \u001b[1;34m'c'\u001b[0m\u001b[1;33m]\u001b[0m  \u001b[1;31m# 隔一个修改一个\u001b[0m\u001b[1;33m\u001b[0m\u001b[0m\n\u001b[1;32m---> 27\u001b[1;33m \u001b[0maList\u001b[0m\u001b[1;33m[\u001b[0m\u001b[1;33m:\u001b[0m\u001b[1;33m:\u001b[0m\u001b[1;36m2\u001b[0m\u001b[1;33m]\u001b[0m \u001b[1;33m=\u001b[0m \u001b[1;33m[\u001b[0m\u001b[1;36m1\u001b[0m\u001b[1;33m,\u001b[0m\u001b[1;36m2\u001b[0m\u001b[1;33m]\u001b[0m  \u001b[1;31m# 左侧切片不连续，等号两边列表长度必须相等\u001b[0m\u001b[1;33m\u001b[0m\u001b[0m\n\u001b[0m\u001b[0;32m     28\u001b[0m \u001b[0maList\u001b[0m\u001b[1;33m[\u001b[0m\u001b[1;33m:\u001b[0m\u001b[1;36m3\u001b[0m\u001b[1;33m]\u001b[0m \u001b[1;33m=\u001b[0m \u001b[1;33m[\u001b[0m\u001b[1;33m]\u001b[0m  \u001b[1;31m# 删除列表中前3个元素\u001b[0m\u001b[1;33m\u001b[0m\u001b[0m\n\u001b[0;32m     29\u001b[0m \u001b[1;33m\u001b[0m\u001b[0m\n",
      "\u001b[1;31mValueError\u001b[0m: attempt to assign sequence of size 2 to extended slice of size 3"
     ]
    }
   ],
   "source": [
    "#模式[start:end:step]\n",
    "\"\"\"\n",
    "    其中，第一个数字start表示切片开始位置，默认为0；\n",
    "    第二个数字end表示切片截止（但不包含）位置（默认为列表长度）；\n",
    "    第三个数字step表示切片的步长（默认为1）。\n",
    "    当start为0时可以省略，当end为列表长度时可以省略，\n",
    "    当step为1时可以省略，并且省略步长时可以同时省略最后一个冒号。\n",
    "    另外，当step为负整数时，表示反向切片，这时start应该比end的值要大才行。\n",
    "\"\"\"\n",
    "aList = [3, 4, 5, 6, 7, 9, 11, 13, 15, 17]\n",
    "print (aList[::])  # 返回包含原列表中所有元素的新列表\n",
    "print (aList[::-1])  # 返回包含原列表中所有元素的逆序列表\n",
    "print (aList[::2])  # 隔一个取一个，获取偶数位置的元素\n",
    "print (aList[1::2])  # 隔一个取一个，获取奇数位置的元素\n",
    "print (aList[3:6])  # 指定切片的开始和结束位置\n",
    "aList[0:100]  # 切片结束位置大于列表长度时，从列表尾部截断\n",
    "aList[100:]  # 切片开始位置大于列表长度时，返回空列表\n",
    "\n",
    "aList[len(aList):] = [9]  # 在列表尾部增加元素\n",
    "aList[:0] = [1, 2]  # 在列表头部插入元素\n",
    "aList[3:3] = [4]  # 在列表中间位置插入元素\n",
    "aList[:3] = [1, 2]  # 替换列表元素，等号两边的列表长度相等\n",
    "aList[3:] = [4, 5, 6]  # 等号两边的列表长度也可以不相等\n",
    "aList[::2] = [0] * 3  # 隔一个修改一个\n",
    "print (aList)\n",
    "aList[::2] = ['a', 'b', 'c']  # 隔一个修改一个\n",
    "aList[::2] = [1,2]  # 左侧切片不连续，等号两边列表长度必须相等\n",
    "aList[:3] = []  # 删除列表中前3个元素\n",
    "\n",
    "del aList[:3]  # 切片元素连续\n",
    "del aList[::2]  # 切片元素不连续，隔一个删一个\n"
   ]
  },
  {
   "cell_type": "code",
   "execution_count": 2,
   "metadata": {},
   "outputs": [],
   "source": [
    "a = []"
   ]
  },
  {
   "cell_type": "code",
   "execution_count": 6,
   "metadata": {},
   "outputs": [],
   "source": [
    "a[:0] = [1,2]"
   ]
  },
  {
   "cell_type": "code",
   "execution_count": 7,
   "metadata": {},
   "outputs": [
    {
     "name": "stdout",
     "output_type": "stream",
     "text": [
      "[1, 2, 1]\n"
     ]
    }
   ],
   "source": [
    "print(a)"
   ]
  },
  {
   "cell_type": "code",
   "execution_count": 8,
   "metadata": {},
   "outputs": [],
   "source": [
    "del a[:1]"
   ]
  },
  {
   "cell_type": "code",
   "execution_count": 9,
   "metadata": {},
   "outputs": [
    {
     "name": "stdout",
     "output_type": "stream",
     "text": [
      "[2, 1]\n"
     ]
    }
   ],
   "source": [
    "print(a)"
   ]
  },
  {
   "cell_type": "markdown",
   "metadata": {},
   "source": [
    "# 实现可切片对象"
   ]
  },
  {
   "cell_type": "code",
   "execution_count": 10,
   "metadata": {},
   "outputs": [
    {
     "ename": "SyntaxError",
     "evalue": "unexpected EOF while parsing (<ipython-input-10-3f49056b499d>, line 2)",
     "output_type": "error",
     "traceback": [
      "\u001b[1;36m  File \u001b[1;32m\"<ipython-input-10-3f49056b499d>\"\u001b[1;36m, line \u001b[1;32m2\u001b[0m\n\u001b[1;33m    # 支持切片操作\u001b[0m\n\u001b[1;37m            ^\u001b[0m\n\u001b[1;31mSyntaxError\u001b[0m\u001b[1;31m:\u001b[0m unexpected EOF while parsing\n"
     ]
    }
   ],
   "source": [
    "class Group:\n",
    "    # 支持切片操作\n",
    "    def __init__(self,name,company_name,staffs):\n",
    "        self.group_name = group_name\n",
    "        self.company_name = company_name\n",
    "        self.staffs = staffs\n",
    "        \n",
    "    def __reversed(self):\n",
    "        pass\n",
    "    \n",
    "    def __len__(self):\n",
    "        pass\n",
    "    \n",
    "    def __iter__(self):\n",
    "        \n",
    "        \n",
    "        1316"
   ]
  },
  {
   "cell_type": "code",
   "execution_count": null,
   "metadata": {},
   "outputs": [],
   "source": []
  }
 ],
 "metadata": {
  "kernelspec": {
   "display_name": "Python 3",
   "language": "python",
   "name": "python3"
  },
  "language_info": {
   "codemirror_mode": {
    "name": "ipython",
    "version": 3
   },
   "file_extension": ".py",
   "mimetype": "text/x-python",
   "name": "python",
   "nbconvert_exporter": "python",
   "pygments_lexer": "ipython3",
   "version": "3.6.6"
  }
 },
 "nbformat": 4,
 "nbformat_minor": 2
}
