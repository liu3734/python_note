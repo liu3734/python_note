{
 "cells": [
  {
   "cell_type": "markdown",
   "metadata": {},
   "source": [
    "## try except finally"
   ]
  },
  {
   "cell_type": "code",
   "execution_count": 8,
   "metadata": {},
   "outputs": [
    {
     "name": "stdout",
     "output_type": "stream",
     "text": [
      "code starter\n",
      "key error\n",
      "finally\n"
     ]
    }
   ],
   "source": [
    "try:\n",
    "    print('code starter')\n",
    "    raise KeyError\n",
    "# 捕捉指定异常\n",
    "except KeyError as e:\n",
    "    print('key error')\n",
    "# 没有异常进入\n",
    "else:\n",
    "    print('else')\n",
    "finally:\n",
    "    #常用于资源释放\n",
    "    #返回数据会覆盖栈顶数据\n",
    "    print('finally')"
   ]
  },
  {
   "cell_type": "markdown",
   "metadata": {},
   "source": [
    "# 上下文管理器 with\n",
    "1.  python基于协议进行编程\n",
    "2. __enter__ 和 __exit__"
   ]
  },
  {
   "cell_type": "code",
   "execution_count": 5,
   "metadata": {},
   "outputs": [
    {
     "name": "stdout",
     "output_type": "stream",
     "text": [
      "doing something\n",
      "exit\n"
     ]
    }
   ],
   "source": [
    "class Sample():\n",
    "    \n",
    "    def __enter__(self):\n",
    "        # with 首先调用enter\n",
    "        # 一般用于获取资源\n",
    "        return self\n",
    "    \n",
    "    def __exit__(self,exc_type,exc_val,exc_tb):\n",
    "        # 结束后 调用exit\n",
    "        # 一般用于释放资源\n",
    "        print(\"exit\")\n",
    "    \n",
    "    def do_something(self):\n",
    "        print('doing something')\n",
    "        \n",
    "with Sample() as sample:\n",
    "    sample.do_something()"
   ]
  },
  {
   "cell_type": "code",
   "execution_count": null,
   "metadata": {},
   "outputs": [],
   "source": []
  }
 ],
 "metadata": {
  "kernelspec": {
   "display_name": "Python 3",
   "language": "python",
   "name": "python3"
  },
  "language_info": {
   "codemirror_mode": {
    "name": "ipython",
    "version": 3
   },
   "file_extension": ".py",
   "mimetype": "text/x-python",
   "name": "python",
   "nbconvert_exporter": "python",
   "pygments_lexer": "ipython3",
   "version": "3.6.6"
  }
 },
 "nbformat": 4,
 "nbformat_minor": 2
}
