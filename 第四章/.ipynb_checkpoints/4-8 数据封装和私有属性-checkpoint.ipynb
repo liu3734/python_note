{
 "cells": [
  {
   "cell_type": "code",
   "execution_count": 2,
   "metadata": {},
   "outputs": [],
   "source": [
    "class Date:\n",
    "    # 构造函数\n",
    "    def __init__(self, year, month, day):\n",
    "        self.year = year\n",
    "        self.month = month\n",
    "        self.day = day\n",
    "        \n",
    "    #实例方法\n",
    "    def tomorrow(self):\n",
    "        self.day += 1\n",
    "        \n",
    "    # 静态方法\n",
    "    @staticmethod\n",
    "    def parse_from_str(data_str):\n",
    "        year,month,day = tuple(data_str.split('-'))\n",
    "        return Date(int(year),int(month),int(day))\n",
    "    \n",
    "    #类方法\n",
    "    @classmethod\n",
    "    def from_string(cls,data_str):\n",
    "        year,month,day = tuple(data_str.split('-'))\n",
    "        return cls(int(year),int(month),int(day))\n",
    "    \n",
    "    \n",
    "    def __str__(self):\n",
    "        return f'{self.year}/{self.month}/{self.day}'"
   ]
  },
  {
   "cell_type": "code",
   "execution_count": 16,
   "metadata": {},
   "outputs": [],
   "source": [
    "class User:\n",
    "    def __init__(self,birthday):\n",
    "        # 双下划线私有属性\n",
    "        self.__birthday = birthday\n",
    "    \n",
    "    def get_age(self):\n",
    "        return 2019 - self.__birthday.year\n"
   ]
  },
  {
   "cell_type": "code",
   "execution_count": 22,
   "metadata": {},
   "outputs": [
    {
     "name": "stdout",
     "output_type": "stream",
     "text": [
      "29\n",
      "1990/2/1\n"
     ]
    }
   ],
   "source": [
    "if __name__ == '__main__':\n",
    "    user = User(Date(1990,2,1))\n",
    "    # print(user.birthday)\n",
    "    print(user.get_age())\n",
    "    # 将私有属性变形为 _classname_attr\n",
    "    print(user._User__birthday)"
   ]
  },
  {
   "cell_type": "code",
   "execution_count": null,
   "metadata": {},
   "outputs": [],
   "source": []
  }
 ],
 "metadata": {
  "kernelspec": {
   "display_name": "Python 3",
   "language": "python",
   "name": "python3"
  },
  "language_info": {
   "codemirror_mode": {
    "name": "ipython",
    "version": 3
   },
   "file_extension": ".py",
   "mimetype": "text/x-python",
   "name": "python",
   "nbconvert_exporter": "python",
   "pygments_lexer": "ipython3",
   "version": "3.6.6"
  }
 },
 "nbformat": 4,
 "nbformat_minor": 2
}
