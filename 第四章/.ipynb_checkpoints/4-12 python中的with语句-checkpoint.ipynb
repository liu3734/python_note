{
 "cells": [
  {
   "cell_type": "markdown",
   "metadata": {},
   "source": [
    "# 上下文管理器 with\n",
    "\n",
    "## try except finally"
   ]
  },
  {
   "cell_type": "code",
   "execution_count": 8,
   "metadata": {},
   "outputs": [
    {
     "name": "stdout",
     "output_type": "stream",
     "text": [
      "code starter\n",
      "key error\n",
      "finally\n"
     ]
    }
   ],
   "source": [
    "try:\n",
    "    print('code starter')\n",
    "    raise KeyError\n",
    "# 捕捉指定异常\n",
    "except KeyError as e:\n",
    "    print('key error')\n",
    "# 没有异常进入\n",
    "else:\n",
    "    print('else')\n",
    "finally:\n",
    "    #常用于资源释放\n",
    "    print('finally')"
   ]
  },
  {
   "cell_type": "code",
   "execution_count": null,
   "metadata": {},
   "outputs": [],
   "source": [
    "8.08"
   ]
  }
 ],
 "metadata": {
  "kernelspec": {
   "display_name": "Python 3",
   "language": "python",
   "name": "python3"
  },
  "language_info": {
   "codemirror_mode": {
    "name": "ipython",
    "version": 3
   },
   "file_extension": ".py",
   "mimetype": "text/x-python",
   "name": "python",
   "nbconvert_exporter": "python",
   "pygments_lexer": "ipython3",
   "version": "3.6.6"
  }
 },
 "nbformat": 4,
 "nbformat_minor": 2
}
