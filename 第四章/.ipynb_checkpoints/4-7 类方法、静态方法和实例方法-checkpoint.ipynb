{
 "cells": [
  {
   "cell_type": "markdown",
   "metadata": {},
   "source": [
    "# 三种用法使用场景\n",
    "## 实例方法只针对实例操作\n",
    "1. 实例方法需要实例化类使用\n",
    "2. 静态方法有可能需要维护类名\n",
    "3. 类方法无需维护类名"
   ]
  },
  {
   "cell_type": "code",
   "execution_count": 10,
   "metadata": {
    "scrolled": true
   },
   "outputs": [
    {
     "name": "stdout",
     "output_type": "stream",
     "text": [
      "2018/12/32\n",
      "2018/15/2\n",
      "2018/15/2\n"
     ]
    }
   ],
   "source": [
    "class Date:\n",
    "    # 构造函数\n",
    "    def __init__(self, year, month, day):\n",
    "        self.year = year\n",
    "        self.month = month\n",
    "        self.day = day\n",
    "        \n",
    "    #实例方法\n",
    "    def tomorrow(self):\n",
    "        self.day += 1\n",
    "        \n",
    "    # 静态方法\n",
    "    @staticmethod\n",
    "    def parse_from_str(data_str):\n",
    "        year,month,day = tuple(data_str.split('-'))\n",
    "        return Date(int(year),int(month),int(day))\n",
    "    \n",
    "    #类方法\n",
    "    @classmethod\n",
    "    def from_string(cls,data_str):\n",
    "        year,month,day = tuple(data_str.split('-'))\n",
    "        return cls(int(year),int(month),int(day))\n",
    "    \n",
    "    \n",
    "    def __str__(self):\n",
    "        return f'{self.year}/{self.month}/{self.day}'\n",
    "    \n",
    "if __name__ == '__main__':\n",
    "    new_day = Date(2018,12,31)\n",
    "    new_day.tomorrow()\n",
    "    print(new_day)\n",
    "    new_date = Date.parse_from_str('2018-15-2')\n",
    "    print(new_date)\n",
    "    new_date = Date.from_string('2018-15-2')\n",
    "    print(new_date)"
   ]
  },
  {
   "cell_type": "code",
   "execution_count": null,
   "metadata": {},
   "outputs": [],
   "source": []
  }
 ],
 "metadata": {
  "kernelspec": {
   "display_name": "Python 3",
   "language": "python",
   "name": "python3"
  },
  "language_info": {
   "codemirror_mode": {
    "name": "ipython",
    "version": 3
   },
   "file_extension": ".py",
   "mimetype": "text/x-python",
   "name": "python",
   "nbconvert_exporter": "python",
   "pygments_lexer": "ipython3",
   "version": "3.6.6"
  }
 },
 "nbformat": 4,
 "nbformat_minor": 2
}
