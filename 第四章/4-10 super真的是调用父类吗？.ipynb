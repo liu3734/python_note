{
 "cells": [
  {
   "cell_type": "markdown",
   "metadata": {},
   "source": [
    "# super函数"
   ]
  },
  {
   "cell_type": "code",
   "execution_count": 3,
   "metadata": {},
   "outputs": [],
   "source": [
    "from threading import Thread\n",
    "\n",
    "class MyThread(Thread):\n",
    "    def __init__(self,name,user):\n",
    "        self.user = user\n",
    "        super().__init__(name=name)\n",
    "\n",
    "class A:\n",
    "    def __init__(self):\n",
    "        print(\"A\")\n",
    "        \n",
    "class B(A):\n",
    "    def __init__(self):\n",
    "        print(\"B\")\n",
    "        super(B,self).__init__()\n",
    "        \n",
    "         "
   ]
  },
  {
   "cell_type": "code",
   "execution_count": 4,
   "metadata": {},
   "outputs": [
    {
     "name": "stdout",
     "output_type": "stream",
     "text": [
      "B\n",
      "A\n"
     ]
    }
   ],
   "source": [
    "# 既然我们重写了B的构造函数，为啥还要去调用super,复用父类代码\n",
    "# super到底执行顺序是啥\n",
    "if __name__ == '__main__':\n",
    "    b= B()"
   ]
  },
  {
   "cell_type": "markdown",
   "metadata": {},
   "source": [
    "## 视频看到6.01"
   ]
  },
  {
   "cell_type": "code",
   "execution_count": null,
   "metadata": {},
   "outputs": [],
   "source": []
  }
 ],
 "metadata": {
  "kernelspec": {
   "display_name": "Python 3",
   "language": "python",
   "name": "python3"
  },
  "language_info": {
   "codemirror_mode": {
    "name": "ipython",
    "version": 3
   },
   "file_extension": ".py",
   "mimetype": "text/x-python",
   "name": "python",
   "nbconvert_exporter": "python",
   "pygments_lexer": "ipython3",
   "version": "3.6.6"
  }
 },
 "nbformat": 4,
 "nbformat_minor": 2
}
